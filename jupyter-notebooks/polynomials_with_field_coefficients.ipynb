{
 "cells": [
  {
   "cell_type": "markdown",
   "metadata": {},
   "source": [
    "# Polynomials with field coefficients <span class=\"tag\" tag-name=\"page\"><span class=\"smallcaps\">page</span></span>\n",
    "\n",
    "> **Remember to save a copy of the file so that you can edit it.**\n",
    "> (Click \"File\", then \"Save a copy to Drive\")\n",
    "\n",
    "## Installing the required packages"
   ],
   "id": "b1551ffa-8d4a-4d11-9884-6f8dedca31f8"
  },
  {
   "cell_type": "code",
   "execution_count": null,
   "metadata": {},
   "outputs": [],
   "source": [
    "# This installs the required packages.\n",
    "# Don't delete this cell!\n",
    "%pip install gmpy2\n",
    "%pip install primefac\n",
    "%pip install \"git+https://github.com/t-huettemann/MTH4021-repository-experimental.git#subdirectory=modules/rings_and_fields\"\n"
   ],
   "id": "a9a9bbf8-c6da-4c57-8765-24875b5aba5d"
  },
  {
   "cell_type": "markdown",
   "metadata": {},
   "source": [
    "## Setting up"
   ],
   "id": "bc73601e-8fc5-4d4a-a3f4-3b9d929f070a"
  },
  {
   "cell_type": "code",
   "execution_count": null,
   "metadata": {},
   "outputs": [],
   "source": [
    "import rings_and_fields as rf\n"
   ],
   "id": "a663249d-5a0e-472b-bbdb-52dd29fc85fd"
  },
  {
   "cell_type": "markdown",
   "metadata": {},
   "source": [
    "## Defining a field\n",
    "\n",
    "We'll work with the field $\\mathbb{F}_{251}$ for illustration. We need\n",
    "to set up two Python objects: `F` representing the field\n",
    "$\\mathbb{F}_{251}$, and `P` representing the polynomial ring\n",
    "$\\mathbb{F}_{251}[x]$."
   ],
   "id": "6cb4e213-8d9f-413b-80ce-4ae6c6fcaf6e"
  },
  {
   "cell_type": "code",
   "execution_count": null,
   "metadata": {},
   "outputs": [],
   "source": [
    "F = rf.primefield(251)\n",
    "P = rf.polynomialring_over_field(F)\n",
    "print(\"Prime field of characteristic 251:\", F)\n",
    "print(\"Ring of polynomials with coefficients in F:\", P)\n"
   ],
   "id": "67aeac5a-0af4-4839-a35b-00a777f484f4"
  },
  {
   "cell_type": "markdown",
   "metadata": {},
   "source": [
    "## Defining polynomials, basic calculations"
   ],
   "id": "796e2f13-6900-4ead-86bf-8cf7defb0097"
  },
  {
   "cell_type": "code",
   "execution_count": null,
   "metadata": {},
   "outputs": [],
   "source": [
    "f = P([27, 0, 12, 203, 33])\n",
    "g = P([5, 127, 200])\n",
    "print(\"f=\", f)\n",
    "print(\"g=\", g)\n"
   ],
   "id": "ea1cf1a0-f06d-4177-9f80-a6182115b012"
  },
  {
   "cell_type": "code",
   "execution_count": null,
   "metadata": {},
   "outputs": [],
   "source": [
    "print(\"f * g =\", f*g)\n",
    "print(\"f - g =\", f-g)\n",
    "print(\"f^4=\", f.power(4))\n",
    "print(\"g*f = 0?\", g.mult(f).is_zero())\n"
   ],
   "id": "6d0f80a8-111f-4470-a659-dfbce58e8539"
  },
  {
   "cell_type": "markdown",
   "metadata": {},
   "source": [
    "You can multiply a polynomial by an integer, so you can write `3*f` or\n",
    "`f*8` without problems."
   ],
   "id": "68b5729c-d8da-49e3-bff4-10ddae3934de"
  },
  {
   "cell_type": "code",
   "execution_count": null,
   "metadata": {},
   "outputs": [],
   "source": [
    "print(\"3*f=\", 3*f)\n",
    "print(\"f*8=\", f*8)\n",
    "print(\"120*f=\", 120*f)\n"
   ],
   "id": "fc404a85-26e9-4705-a8c4-9f2b4ba41c0f"
  },
  {
   "cell_type": "markdown",
   "metadata": {},
   "source": [
    "## Division with remainder\n",
    "\n",
    "We can divide by *any* non-zero polynomial (as we're working with field\n",
    "coefficients now!). The \"quotient\" is obtained with the method `div`,\n",
    "the \"remainder\" with the method `mod`."
   ],
   "id": "32a5b8c8-c91a-4897-933f-acaff9779ee3"
  },
  {
   "cell_type": "code",
   "execution_count": null,
   "metadata": {},
   "outputs": [],
   "source": [
    "print(\"Is g monic?\", g.is_monic())\n",
    "print(\"Division with remainder: f= g*q + r where\")\n",
    "q = f.div(g)\n",
    "r = f.mod(g)\n",
    "print(\"  q=\", q)\n",
    "print(\"  r=\", r)\n"
   ],
   "id": "9bc06725-2a74-465e-a6b9-d191c882b2b7"
  },
  {
   "cell_type": "code",
   "execution_count": null,
   "metadata": {},
   "outputs": [],
   "source": [
    "print(\"Test this: g*q + r = f?\")\n",
    "print(g*q+r == f)\n"
   ],
   "id": "63974537-757b-4b3f-959a-c68ea4a95519"
  },
  {
   "cell_type": "markdown",
   "metadata": {},
   "source": [
    "## Testing irreducibility\n",
    "\n",
    "When working over a finite field, it is possible to check whether a\n",
    "polynomial is irreducible or not (using Rabin's test).\n",
    "\n",
    "Let's try out a small examples over $\\mathbb{F}_{7}$ first. First the\n",
    "necessary set-up:"
   ],
   "id": "33b97dbb-c8c0-4ade-91ab-fd7e9499a916"
  },
  {
   "cell_type": "code",
   "execution_count": null,
   "metadata": {},
   "outputs": [],
   "source": [
    "K = rf.primefield(7)\n",
    "print(\"K=\", K)\n",
    "Q = rf.polynomialring_over_field(K)\n",
    "print(\"Q=\", Q)\n"
   ],
   "id": "30b952be-ce43-464e-bbc4-616f6cb42e37"
  },
  {
   "cell_type": "markdown",
   "metadata": {},
   "source": [
    "We test two fixed polynomials, and also a randomly chosen polynomial of\n",
    "degree at most 3."
   ],
   "id": "162f26a6-4bd7-4c0c-aa1c-da8bc9d90084"
  },
  {
   "cell_type": "code",
   "execution_count": null,
   "metadata": {},
   "outputs": [],
   "source": [
    "p = Q([1,2,3,4])\n",
    "print(\"p=\", p)\n",
    "print(\"Is the polynomial\", p, \"irreducible?\", p.is_irreducible())\n",
    "q = Q([2,5,0,1])\n",
    "print(\"Is the polynomial\", q, \"irreducible?\", q.is_irreducible())\n",
    "z = Q([K.random_element() for i in range(4)])\n",
    "print(\"Is the polynomial\", z, \"irreducible?\", z.is_irreducible())\n"
   ],
   "id": "51e154c5-8b65-4100-a7da-22a6272be2f6"
  },
  {
   "cell_type": "markdown",
   "metadata": {},
   "source": [
    "Now let's try some higher-degree examples!"
   ],
   "id": "a5634adb-17f2-4f61-a7c1-f6ac651cabf3"
  },
  {
   "cell_type": "code",
   "execution_count": null,
   "metadata": {},
   "outputs": [],
   "source": [
    "p1 = Q([4,2,5,6,4,1,3,5,3,1,4,1])\n",
    "print(\"p=\", p)\n",
    "print(\"Is the polynomial\", p1, \"irreducible?\", p1.is_irreducible())\n",
    "q1 = Q([4,2,5,5,4,1,3,5,3,1,4,1])\n",
    "print(\"Is the polynomial\", q1, \"irreducible?\", q1.is_irreducible())\n"
   ],
   "id": "dc7c45fd-2612-4595-9120-12f843a57b94"
  },
  {
   "cell_type": "markdown",
   "metadata": {},
   "source": [
    "## Another example\n",
    "\n",
    "-   $K = \\mathbb{F}_{19}$\n",
    "-   $f = 2x^3 + 4x^2 + 9$\n",
    "-   $g = 14x^2 + 12x + 13$\n",
    "\n",
    "The resultant of $f$ and $g$ is $\\mathrm{Res}_{3,2}(f,g) =\n",
    "228,636 \\equiv 9 \\mod 19$, so $f$ and $g$ do not have a common\n",
    "non-trivial factor.\n",
    "\n",
    "Let's try to check this a bit. Is $228,636 \\equiv 9 \\mod 19$ actually\n",
    "true?"
   ],
   "id": "baff0156-1bcc-49a3-b980-8049aeb8a868"
  },
  {
   "cell_type": "code",
   "execution_count": null,
   "metadata": {},
   "outputs": [],
   "source": [
    "L = rf.primefield(19)\n",
    "rr = L(228636)\n",
    "print(rr, \"= 228,636 in the field\", L)\n"
   ],
   "id": "9d0ca0e5-7593-4120-b234-5f796734f21b"
  },
  {
   "cell_type": "markdown",
   "metadata": {},
   "source": [
    "Looks good. Let's compute the remainder when dividing $f$ by $g$, to\n",
    "make sure that $g$ isn't a factor of $f$:"
   ],
   "id": "80d89085-c925-4bac-b95f-b0bf35087718"
  },
  {
   "cell_type": "code",
   "execution_count": null,
   "metadata": {},
   "outputs": [],
   "source": [
    "T = rf.polynomialring_over_field(L)\n",
    "f = T([9,0,4,2])\n",
    "print(\"f=\", f)\n",
    "g = T([13,12,14])\n",
    "print(\"g=\", g)\n",
    "print(\"f % g=\", f % g)\n"
   ],
   "id": "6e84be8a-856e-472e-8d6a-a05cc92d1ee3"
  },
  {
   "cell_type": "markdown",
   "metadata": {},
   "source": [
    "Since the remainder `f % g` is non-zero we know $g \\nmid f$.\n",
    "\n",
    "Let's change tack and check if $f$ has any roots; we'll do this the\n",
    "naive way and simply loop over the elements of the coefficient\n",
    "field $\\mathbb{F}_{19}$, evaluate the polynomial and check whether the\n",
    "result is zero."
   ],
   "id": "84b6fbe0-b7a7-4209-b543-a092edc77f1f"
  },
  {
   "cell_type": "code",
   "execution_count": null,
   "metadata": {},
   "outputs": [],
   "source": [
    "for t in L:\n",
    "    if f.eval(t).is_zero():\n",
    "        print(\"f has root\", t)\n",
    "    else:\n",
    "        print(t, \"is not a root of f\")\n"
   ],
   "id": "277b0198-81b7-4356-8e1c-497d3fe9ff61"
  },
  {
   "cell_type": "markdown",
   "metadata": {},
   "source": [
    "``` example\n",
    "0 is not a root of f\n",
    "1 is not a root of f\n",
    "2 is not a root of f\n",
    "3 is not a root of f\n",
    "4 is not a root of f\n",
    "5 is not a root of f\n",
    "6 is not a root of f\n",
    "7 is not a root of f\n",
    "8 is not a root of f\n",
    "9 is not a root of f\n",
    "10 is not a root of f\n",
    "11 is not a root of f\n",
    "12 is not a root of f\n",
    "13 is not a root of f\n",
    "14 is not a root of f\n",
    "15 is not a root of f\n",
    "16 is not a root of f\n",
    "17 is not a root of f\n",
    "18 is not a root of f\n",
    "```\n",
    "\n",
    "So $f$ has no roots. This actually means that $f$ is irreducible (since\n",
    "$\\deg(f) =3$), and thus can't possibly have a common factor with $g$\n",
    "(such a factor, if non-trivial, would be of degree 1 or 2).\n",
    "\n",
    "## How many polynomials have more than one root?\n",
    "\n",
    "Just for fun, and totally unrelated to the above, let's find the roots\n",
    "(if any) of a higher-degree polynomial:"
   ],
   "id": "769f2962-2fe6-419b-8827-8470dce99a74"
  },
  {
   "cell_type": "code",
   "execution_count": null,
   "metadata": {},
   "outputs": [],
   "source": [
    "h = T([6,2,4,2,0,1,15,1])\n",
    "print(\"h=\", h)\n",
    "roots = []\n",
    "for t in L:\n",
    "    if h.eval(t).is_zero():\n",
    "        roots.append(str(t))\n",
    "print(\"Roots of h:\", roots)\n"
   ],
   "id": "a2fe3421-ea3e-40a2-8a6a-f63a708809e3"
  },
  {
   "cell_type": "markdown",
   "metadata": {},
   "source": [
    "It took me a while to find (by random experimentation) a polynomial with\n",
    "more than one root. So how likely is it that a polynomial has more than\n",
    "one root? Let's investigate this numerically, simply enumerating all\n",
    "polynomials and counting how many of the have more than one root. It's\n",
    "of course enough to deal with monic polynomials.\n",
    "\n",
    "We start with monic polynomials of degree 2 as a proof-of-concept:"
   ],
   "id": "313dc302-3d35-4ac4-a87f-87b428cf7481"
  },
  {
   "cell_type": "code",
   "execution_count": null,
   "metadata": {},
   "outputs": [],
   "source": [
    "num = 0\n",
    "tot = 0\n",
    "for a0 in L:\n",
    "    for a1 in L:\n",
    "        tot += 1                      # keep track of the total number of polynomials tested\n",
    "        h = T([a0, a1, 1])            # define the polynomial h = x^2 + a_1 x + a_0 to be tested now\n",
    "        roots = []                    # find the roots of h\n",
    "        for t in L:\n",
    "            if h.eval(t).is_zero():\n",
    "                roots.append(str(t))\n",
    "        if len(roots)>1:             # check if there's more than one root\n",
    "            num += 1\n",
    "print(num, \"of\", tot, \"monic polynomials of degree 2 have more than one root\")\n"
   ],
   "id": "b73e9391-eee4-4c86-9e73-8debeec5bfeb"
  },
  {
   "cell_type": "markdown",
   "metadata": {},
   "source": [
    "So about 47% of the tested polynomials have more than one root.\n",
    "\n",
    "And since that worked well, let's try with degree 3:"
   ],
   "id": "5df9c36f-52d5-4962-8542-67f7917dce7a"
  },
  {
   "cell_type": "code",
   "execution_count": null,
   "metadata": {},
   "outputs": [],
   "source": [
    "num = 0\n",
    "tot = 0\n",
    "for a0 in L:\n",
    "    for a1 in L:\n",
    "        for a2 in L:\n",
    "            tot = tot + 1\n",
    "            h = T([a0,a1,a2,1])\n",
    "            roots = []\n",
    "            for t in L:\n",
    "                if h.eval(t).is_zero():\n",
    "                    roots.append(str(t))\n",
    "            if len(roots)>1:\n",
    "                num = num+1\n",
    "print(num, \"of\", tot, \"monic polynomials of degree 3 have more than one root\")\n"
   ],
   "id": "9f2bfa98-33b4-4d0e-8013-f563417204ec"
  },
  {
   "cell_type": "markdown",
   "metadata": {},
   "source": [
    "So about 19% of the tested polynomials have more than one root!\n",
    "\n",
    "And how about degree 4?"
   ],
   "id": "4c5ca9ab-69ea-470f-ae1f-fd9c8c81e601"
  },
  {
   "cell_type": "code",
   "execution_count": null,
   "metadata": {},
   "outputs": [],
   "source": [
    "num = 0\n",
    "tot = 0\n",
    "for a0 in L:\n",
    "    for a1 in L:\n",
    "        for a2 in L:\n",
    "            for a3 in L:\n",
    "                tot = tot + 1\n",
    "                h = T([a0,a1,a2,a3,1])\n",
    "                roots = []\n",
    "                for t in L:\n",
    "                    if h.eval(t).is_zero():\n",
    "                        roots.append(str(t))\n",
    "                if len(roots)>1:\n",
    "                    num = num+1\n",
    "print(num, \"of\", tot, \"monic polynomials of degree 4 have more than one root\")\n"
   ],
   "id": "a70b5261-fb3d-487b-ade7-9d5f24a44a42"
  },
  {
   "cell_type": "markdown",
   "metadata": {},
   "source": [
    "That's a whopping 28% of polynomials with at least one root.\n",
    "\n",
    "**Suggestion**: Try polynomials of degree 5, or even degree 6. Computing\n",
    "times will become quite noticeable but still bearable (I think). What's\n",
    "your prediction?"
   ],
   "id": "ac3d9beb-f227-4084-aa9b-023204e3b180"
  }
 ],
 "nbformat": 4,
 "nbformat_minor": 5,
 "metadata": {}
}
