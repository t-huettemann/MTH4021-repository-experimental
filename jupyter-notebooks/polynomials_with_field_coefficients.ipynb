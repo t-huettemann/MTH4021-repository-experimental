{
 "cells": [
  {
   "cell_type": "markdown",
   "metadata": {},
   "source": [
    "# Polynomials with field coefficients <span class=\"tag\" tag-name=\"page\"><span class=\"smallcaps\">page</span></span>\n",
    "\n",
    "> **Remember to save a copy of the file so that you can edit it.**\n",
    "> (Click \"File\", then \"Save a copy to Drive\")\n",
    "\n",
    "## Installing the required packages"
   ],
   "id": "be9f67ea-4b4e-4ce7-9699-11adb9ca0436"
  },
  {
   "cell_type": "code",
   "execution_count": null,
   "metadata": {},
   "outputs": [],
   "source": [
    "# This installs the required packages.\n",
    "# Don't delete this cell!\n",
    "%pip install gmpy2\n",
    "%pip install primefac\n",
    "%pip install \"git+https://github.com/t-huettemann/MTH4021-repository-experimental.git#subdirectory=modules/rings_and_fields\"\n"
   ],
   "id": "9b8fa2d2-7d3a-4b48-8bb4-ec642cafb911"
  },
  {
   "cell_type": "markdown",
   "metadata": {},
   "source": [
    "## Setting up"
   ],
   "id": "488f3467-ef1c-4ba4-bce2-a58242a2a6f8"
  },
  {
   "cell_type": "code",
   "execution_count": null,
   "metadata": {},
   "outputs": [],
   "source": [
    "import rings_and_fields as rf\n"
   ],
   "id": "509344e0-f4ca-4b8a-bbf4-7ca1f0c34387"
  },
  {
   "cell_type": "markdown",
   "metadata": {},
   "source": [
    "## Defining a field\n",
    "\n",
    "We'll work with the field $\\mathbb{F}_{251}$ for illustration. We need\n",
    "to set up two Python objects: `F` representing the field\n",
    "$\\mathbb{F}_{251}$, and `P` representing the polynomial ring\n",
    "$\\mathbb{F}_{251}[x]$."
   ],
   "id": "3cadb24f-3e5d-451e-8a56-5ceca5259944"
  },
  {
   "cell_type": "code",
   "execution_count": null,
   "metadata": {},
   "outputs": [],
   "source": [
    "F = rf.primefield(251)\n",
    "P = rf.polynomialring_over_field(F)\n",
    "print(\"Prime field of characteristic 251:\", F)\n",
    "print(\"Ring of polynomials with coefficients in F:\", P)\n"
   ],
   "id": "dbc308d9-41bc-4648-9995-1a1cb5348ccb"
  },
  {
   "cell_type": "markdown",
   "metadata": {},
   "source": [
    "## Defining polynomials, basic calculations"
   ],
   "id": "c0f34d74-7efb-4397-a00c-d8e13e662da7"
  },
  {
   "cell_type": "code",
   "execution_count": null,
   "metadata": {},
   "outputs": [],
   "source": [
    "f = P([27, 0, 12, 203, 33])\n",
    "g = P([5, 127, 200])\n",
    "print(\"f=\", f)\n",
    "print(\"g=\", g)\n"
   ],
   "id": "a6f41a8d-cfd1-433c-aba4-8ee3eadc1da4"
  },
  {
   "cell_type": "code",
   "execution_count": null,
   "metadata": {},
   "outputs": [],
   "source": [
    "print(\"f * g =\", f*g)\n",
    "print(\"f - g =\", f-g)\n",
    "print(\"f^4=\", f.power(4))\n",
    "print(\"g*f = 0?\", g.mult(f).is_zero())\n"
   ],
   "id": "710042ad-7c05-49c4-bb42-8f30bdb77933"
  },
  {
   "cell_type": "markdown",
   "metadata": {},
   "source": [
    "You can multiply a polynomial by an integer, so you can write `3*f` or\n",
    "`f*8` without problems."
   ],
   "id": "2d47918a-6c43-452a-9d81-d28c94c1f0bd"
  },
  {
   "cell_type": "code",
   "execution_count": null,
   "metadata": {},
   "outputs": [],
   "source": [
    "print(\"3*f=\", 3*f)\n",
    "print(\"f*8=\", f*8)\n",
    "print(\"120*f=\", 120*f)\n"
   ],
   "id": "987c2456-75ee-4be6-963c-e2a132bb39e3"
  },
  {
   "cell_type": "markdown",
   "metadata": {},
   "source": [
    "## Division with remainder\n",
    "\n",
    "We can divide by *any* non-zero polynomial (as we're working with field\n",
    "coefficients now!). The \"quotient\" is obtained with the method `div`,\n",
    "the \"remainder\" with the method `mod`."
   ],
   "id": "c58040f3-b53c-4ca0-bcf0-f697f86b2ecb"
  },
  {
   "cell_type": "code",
   "execution_count": null,
   "metadata": {},
   "outputs": [],
   "source": [
    "print(\"Is g monic?\", g.is_monic())\n",
    "print(\"Division with remainder: f= g*q + r where\")\n",
    "q = f.div(g)\n",
    "r = f.mod(g)\n",
    "print(\"  q=\", q)\n",
    "print(\"  r=\", r)\n"
   ],
   "id": "a0858b2f-47d6-423d-8bf0-6161077667e8"
  },
  {
   "cell_type": "code",
   "execution_count": null,
   "metadata": {},
   "outputs": [],
   "source": [
    "print(\"Test this: g*q + r = f?\")\n",
    "print(g*q+r == f)\n"
   ],
   "id": "c48681b7-fe75-4cef-b511-125a35658507"
  },
  {
   "cell_type": "markdown",
   "metadata": {},
   "source": [
    "## Testing irreducibility\n",
    "\n",
    "When working over a finite field, it is possible to check whether a\n",
    "polynomial is irreducible or not (using Rabin's test).\n",
    "\n",
    "Let's try out a small examples over $\\mathbb{F}_{7}$ first. First the\n",
    "necessary set-up:"
   ],
   "id": "ac4f1e46-720d-4fa5-8a4b-276d9445ae23"
  },
  {
   "cell_type": "code",
   "execution_count": null,
   "metadata": {},
   "outputs": [],
   "source": [
    "K = rf.primefield(7)\n",
    "print(\"K=\", K)\n",
    "Q = rf.polynomialring_over_field(K)\n",
    "print(\"Q=\", Q)\n"
   ],
   "id": "cd4d0e53-2dd0-47d6-8145-f06167ccba16"
  },
  {
   "cell_type": "markdown",
   "metadata": {},
   "source": [
    "We test two fixed polynomials, and also a randomly chosen polynomial of\n",
    "degree at most 3."
   ],
   "id": "5a0c3f8b-736f-452a-991b-755ad69bf558"
  },
  {
   "cell_type": "code",
   "execution_count": null,
   "metadata": {},
   "outputs": [],
   "source": [
    "p = Q([1,2,3,4])\n",
    "print(\"p=\", p)\n",
    "print(\"Is the polynomial\", p, \"irreducible?\", p.is_irreducible())\n",
    "q = Q([2,5,0,1])\n",
    "print(\"Is the polynomial\", q, \"irreducible?\", q.is_irreducible())\n",
    "z = Q([K.random_element() for i in range(4)])\n",
    "print(\"Is the polynomial\", z, \"irreducible?\", z.is_irreducible())\n"
   ],
   "id": "f69a7ea0-a4d3-472a-bca5-6b205f1f4500"
  },
  {
   "cell_type": "markdown",
   "metadata": {},
   "source": [
    "Now let's try some higher-degree examples!"
   ],
   "id": "0ae85715-e949-4a26-a3a7-d06399b31c74"
  },
  {
   "cell_type": "code",
   "execution_count": null,
   "metadata": {},
   "outputs": [],
   "source": [
    "p1 = Q([4,2,5,6,4,1,3,5,3,1,4,1])\n",
    "print(\"p=\", p)\n",
    "print(\"Is the polynomial\", p1, \"irreducible?\", p1.is_irreducible())\n",
    "q1 = Q([4,2,5,5,4,1,3,5,3,1,4,1])\n",
    "print(\"Is the polynomial\", q1, \"irreducible?\", q1.is_irreducible())\n"
   ],
   "id": "8adbdb81-646d-4851-8659-05da4d6b746e"
  },
  {
   "cell_type": "markdown",
   "metadata": {},
   "source": [
    "## Another example\n",
    "\n",
    "-   $K = \\mathbb{F}_{19}$\n",
    "-   $f = 2x^3 + 4x^2 + 9$\n",
    "-   $g = 14x^2 + 12x + 13$\n",
    "\n",
    "The resultant of $f$ and $g$ is $\\mathrm{Res}_{3,2}(f,g) =\n",
    "228,636 \\equiv 9 \\mod 19$, so $f$ and $g$ do not have a common\n",
    "non-trivial factor.\n",
    "\n",
    "Let's try to check this a bit. Is $228,636 \\equiv 9 \\mod 19$ actually\n",
    "true?"
   ],
   "id": "7a3689d7-bc87-4b78-a607-6364a4077392"
  },
  {
   "cell_type": "code",
   "execution_count": null,
   "metadata": {},
   "outputs": [],
   "source": [
    "L = rf.primefield(19)\n",
    "rr = L(228636)\n",
    "print(rr, \"= 228,636 in the field\", L)\n"
   ],
   "id": "8d8b20e6-06ff-4843-9aa0-1dd54a160ff9"
  },
  {
   "cell_type": "markdown",
   "metadata": {},
   "source": [
    "Looks good. Let's compute the remainder when dividing $f$ by $g$, to\n",
    "make sure that $g$ isn't a factor of $f$:"
   ],
   "id": "96b3419d-232a-448c-9329-04f71290f08d"
  },
  {
   "cell_type": "code",
   "execution_count": null,
   "metadata": {},
   "outputs": [],
   "source": [
    "T = rf.polynomialring_over_field(L)\n",
    "f = T([9,0,4,2])\n",
    "print(\"f=\", f)\n",
    "g = T([13,12,14])\n",
    "print(\"g=\", g)\n",
    "print(\"f % g=\", f % g)\n"
   ],
   "id": "734637ec-9b73-48f8-91e3-5e1ceea4851c"
  },
  {
   "cell_type": "markdown",
   "metadata": {},
   "source": [
    "Since the remainder `f % g` is non-zero we know $g \\nmid f$.\n",
    "\n",
    "Let's change tack and check if $f$ has any roots; we'll do this the\n",
    "naive way and simply loop over the elements of the coefficient\n",
    "field $\\mathbb{F}_{19}$, evaluate the polynomial and check whether the\n",
    "result is zero."
   ],
   "id": "c922daf1-6930-4d14-921e-d921a266bb3b"
  },
  {
   "cell_type": "code",
   "execution_count": null,
   "metadata": {},
   "outputs": [],
   "source": [
    "for t in L:\n",
    "    if f.eval(t).is_zero():\n",
    "        print(\"f has root\", t)\n",
    "    else:\n",
    "        print(t, \"is not a root of f\")\n"
   ],
   "id": "019e06f9-476f-4076-a0f8-4e602679f7fc"
  },
  {
   "cell_type": "markdown",
   "metadata": {},
   "source": [
    "``` example\n",
    "0 is not a root of f\n",
    "1 is not a root of f\n",
    "2 is not a root of f\n",
    "3 is not a root of f\n",
    "4 is not a root of f\n",
    "5 is not a root of f\n",
    "6 is not a root of f\n",
    "7 is not a root of f\n",
    "8 is not a root of f\n",
    "9 is not a root of f\n",
    "10 is not a root of f\n",
    "11 is not a root of f\n",
    "12 is not a root of f\n",
    "13 is not a root of f\n",
    "14 is not a root of f\n",
    "15 is not a root of f\n",
    "16 is not a root of f\n",
    "17 is not a root of f\n",
    "18 is not a root of f\n",
    "```\n",
    "\n",
    "So $f$ has no roots. This actually means that $f$ is irreducible (since\n",
    "$\\deg(f) =3$), and thus can't possibly have a common factor with $g$\n",
    "(such a factor, if non-trivial, would be of degree 1 or 2).\n",
    "\n",
    "## How many polynomials have more than one root?\n",
    "\n",
    "Just for fun, and totally unrelated to the above, let's find the roots\n",
    "(if any) of a higher-degree polynomial:"
   ],
   "id": "e2bb6aaf-55e6-4206-b2e6-d111c801d5ab"
  },
  {
   "cell_type": "code",
   "execution_count": null,
   "metadata": {},
   "outputs": [],
   "source": [
    "h = T([6,2,4,2,0,1,15,1])\n",
    "print(\"h=\", h)\n",
    "roots = []\n",
    "for t in L:\n",
    "    if h.eval(t).is_zero():\n",
    "        roots.append(str(t))\n",
    "print(\"Roots of h:\", roots)\n"
   ],
   "id": "e68c44ff-c273-445e-a0c0-a74d35d49cc8"
  },
  {
   "cell_type": "markdown",
   "metadata": {},
   "source": [
    "It took me a while to find (by random experimentation) a polynomial with\n",
    "more than one root. So how likely is it that a polynomial has more than\n",
    "one root? Let's investigate this numerically, simply enumerating all\n",
    "polynomials and counting how many of the have more than one root. It's\n",
    "of course enough to deal with monic polynomials.\n",
    "\n",
    "We start with monic polynomials of degree 2 as a proof-of-concept:"
   ],
   "id": "7b7d84f9-4fd2-4ab7-a93e-0b39304de949"
  },
  {
   "cell_type": "code",
   "execution_count": null,
   "metadata": {},
   "outputs": [],
   "source": [
    "num = 0\n",
    "tot = 0\n",
    "for a0 in L:\n",
    "    for a1 in L:\n",
    "        tot += 1                      # keep track of the total number of polynomials tested\n",
    "        h = [a0, a1, 1]               # define the polynomial h = x^2 + a_1 x + a_0 to be tested now\n",
    "        roots = []                    # find the roots of h\n",
    "        for t in L:\n",
    "            if h.eval(t).is_zero():\n",
    "                roots.append(str(t))\n",
    "        if len(roots)>1:             # check if there's more than one root\n",
    "            num += 1\n",
    "print(num, \"of\", tot, \"monic polynomials of degree 2 have more than one root\")\n"
   ],
   "id": "8ce70454-d106-45a2-81d9-acf394fb63a9"
  },
  {
   "cell_type": "markdown",
   "metadata": {},
   "source": [
    "So about 47% of the tested polynomials have more than one root.\n",
    "\n",
    "And since that worked well, let's try with degree 3:"
   ],
   "id": "230ef6b4-66a2-4cec-9916-ee6cc6ff085c"
  },
  {
   "cell_type": "code",
   "execution_count": null,
   "metadata": {},
   "outputs": [],
   "source": [
    "num = 0\n",
    "tot = 0\n",
    "for a0 in L:\n",
    "    for a1 in L:\n",
    "        for a2 in L:\n",
    "            tot = tot + 1\n",
    "            h = T([a0,a1,a2,1])\n",
    "            roots = []\n",
    "            for t in L:\n",
    "                if h.eval(t).is_zero():\n",
    "                    roots.append(str(t))\n",
    "            if len(roots)>1:\n",
    "                num = num+1\n",
    "print(num, \"of\", tot, \"monic polynomials of degree 3 have more than one root\")\n"
   ],
   "id": "c73ff38d-c29f-424d-9e90-96be0e6b9f25"
  },
  {
   "cell_type": "markdown",
   "metadata": {},
   "source": [
    "So about 19% of the tested polynomials have more than one root!\n",
    "\n",
    "And how about degree 4?"
   ],
   "id": "7071dc58-7dbd-4810-a028-ec8532b8857e"
  },
  {
   "cell_type": "code",
   "execution_count": null,
   "metadata": {},
   "outputs": [],
   "source": [
    "num = 0\n",
    "tot = 0\n",
    "for a0 in L:\n",
    "    for a1 in L:\n",
    "        for a2 in L:\n",
    "            for a3 in L:\n",
    "                tot = tot + 1\n",
    "                h = T([a0,a1,a2,a3,1])\n",
    "                roots = []\n",
    "                for t in L:\n",
    "                    if h.eval(t).is_zero():\n",
    "                        roots.append(str(t))\n",
    "                if len(roots)>1:\n",
    "                    num = num+1\n",
    "print(num, \"of\", tot, \"monic polynomials of degree 4 have more than one root\")\n"
   ],
   "id": "63d5e4e8-002c-4e5d-98f6-b5a9ab0ccf5a"
  },
  {
   "cell_type": "markdown",
   "metadata": {},
   "source": [
    "That's a whopping 28% of polynomials with at least one root.\n",
    "\n",
    "**Suggestion**: Try polynomials of degree 5, or even degree 6. Computing\n",
    "times will become quite noticeable but still bearable (I think). What's\n",
    "your prediction?"
   ],
   "id": "10fed593-9480-4810-8c24-d1998b4d72f3"
  }
 ],
 "nbformat": 4,
 "nbformat_minor": 5,
 "metadata": {}
}
