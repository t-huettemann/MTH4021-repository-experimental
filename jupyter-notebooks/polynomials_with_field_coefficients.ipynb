{
 "cells": [
  {
   "cell_type": "markdown",
   "metadata": {},
   "source": [
    "# Polynomials with field coefficients <span class=\"tag\" tag-name=\"page\"><span class=\"smallcaps\">page</span></span>\n",
    "\n",
    "> **Remember to save a copy of the file so that you can edit it.**\n",
    "> (Click \"File\", then \"Save a copy to Drive\")\n",
    "\n",
    "## Installing the required packages"
   ],
   "id": "27b098c7-b0ee-44a2-a190-55d7bb799a20"
  },
  {
   "cell_type": "code",
   "execution_count": null,
   "metadata": {},
   "outputs": [],
   "source": [
    "# This installs the required packages.\n",
    "# Don't delete this cell!\n",
    "%pip install gmpy2\n",
    "%pip install primefac\n",
    "%pip install \"git+https://github.com/t-huettemann/MTH4021-repository-experimental.git#subdirectory=modules/rings_and_fields\"\n"
   ],
   "id": "feb52329-2b78-4527-8333-92eb7dcdf7a2"
  },
  {
   "cell_type": "markdown",
   "metadata": {},
   "source": [
    "## Setting up"
   ],
   "id": "e094b040-4444-4633-ac18-6e882786b834"
  },
  {
   "cell_type": "code",
   "execution_count": null,
   "metadata": {},
   "outputs": [],
   "source": [
    "import rings_and_fields as rf\n"
   ],
   "id": "14a94c29-14d0-4110-9405-176daa4ec61f"
  },
  {
   "cell_type": "markdown",
   "metadata": {},
   "source": [
    "## Defining a field\n",
    "\n",
    "We'll work with the field $\\mathbb{F}_{251}$ for illustration. We need\n",
    "to set up two Python objects: `F` representing the field\n",
    "$\\mathbb{F}_{251}$, and `P` representing the polynomial ring\n",
    "$\\mathbb{F}_{251}[x]$."
   ],
   "id": "d957441b-9af4-48e3-9c02-0b4aa22db3a9"
  },
  {
   "cell_type": "code",
   "execution_count": null,
   "metadata": {},
   "outputs": [],
   "source": [
    "F = rf.primefield(251)\n",
    "P = rf.polynomialring_over_field(F)\n",
    "print(\"Prime field of characteristic 251:\", F)\n",
    "print(\"Ring of polynomials with coefficients in F:\", P)\n"
   ],
   "id": "f03b386e-7c66-406d-8682-56c263009b1b"
  },
  {
   "cell_type": "markdown",
   "metadata": {},
   "source": [
    "## Defining polynomials, basic calculations"
   ],
   "id": "5db15084-b7b4-4bf4-af3c-4233f7be1be8"
  },
  {
   "cell_type": "code",
   "execution_count": null,
   "metadata": {},
   "outputs": [],
   "source": [
    "f = P([27, 0, 12, 203, 33])\n",
    "g = P([5, 127, 200])\n",
    "print(\"f=\", f)\n",
    "print(\"g=\", g)\n"
   ],
   "id": "4ad7c230-fe7a-441b-9709-33d04f58a170"
  },
  {
   "cell_type": "code",
   "execution_count": null,
   "metadata": {},
   "outputs": [],
   "source": [
    "print(\"f * g =\", f*g)\n",
    "print(\"f - g =\", f-g)\n",
    "print(\"f^4=\", f.power(4))\n",
    "print(\"g*f = 0?\", g.mult(f).is_zero())\n"
   ],
   "id": "e742f98c-8a53-4e20-85c0-1f126cf8b3e6"
  },
  {
   "cell_type": "markdown",
   "metadata": {},
   "source": [
    "You can multiply a polynomial by an integer, so you can write `3*f` or\n",
    "`f*8` without problems."
   ],
   "id": "9c4966cd-cb7d-4141-8f8b-9d8fcde72003"
  },
  {
   "cell_type": "code",
   "execution_count": null,
   "metadata": {},
   "outputs": [],
   "source": [
    "print(\"3*f=\", 3*f)\n",
    "print(\"f*8=\", f*8)\n",
    "print(\"120*f=\", 120*f)\n"
   ],
   "id": "c45013d9-052d-4aa0-afdf-b6234a8947de"
  },
  {
   "cell_type": "markdown",
   "metadata": {},
   "source": [
    "## Division with remainder\n",
    "\n",
    "We can divide by *any* non-zero polynomial (as we're working with field\n",
    "coefficients now!). The \"quotient\" is obtained with the method `div`,\n",
    "the \"remainder\" with the method `mod`."
   ],
   "id": "eb609c76-5e63-4492-8290-c595996a98d5"
  },
  {
   "cell_type": "code",
   "execution_count": null,
   "metadata": {},
   "outputs": [],
   "source": [
    "print(\"Is g monic?\", g.is_monic())\n",
    "print(\"Division with remainder: f= g*q + r where\")\n",
    "q = f.div(g)\n",
    "r = f.mod(g)\n",
    "print(\"  q=\", q)\n",
    "print(\"  r=\", r)\n"
   ],
   "id": "d410dbed-4143-4b53-b7a2-3c5c3eed7618"
  },
  {
   "cell_type": "code",
   "execution_count": null,
   "metadata": {},
   "outputs": [],
   "source": [
    "print(\"Test this: g*q + r = f?\")\n",
    "print(g*q+r == f)\n"
   ],
   "id": "e8ecaa71-3533-448a-a4de-2f63df6fb873"
  },
  {
   "cell_type": "markdown",
   "metadata": {},
   "source": [
    "## Testing irreducibility\n",
    "\n",
    "When working over a finite field, it is possible to check whether a\n",
    "polynomial is irreducible or not (using Rabin's test).\n",
    "\n",
    "Let's try out a small examples over $\\mathbb{F}_{7}$ first. First the\n",
    "necessary set-up:"
   ],
   "id": "dfa3daf2-8596-4f62-92f8-2bec41455cce"
  },
  {
   "cell_type": "code",
   "execution_count": null,
   "metadata": {},
   "outputs": [],
   "source": [
    "K = rf.primefield(7)\n",
    "print(\"K=\", K)\n",
    "Q = rf.polynomialring_over_field(K)\n",
    "print(\"Q=\", Q)\n"
   ],
   "id": "f43dc838-fae3-499a-ac52-a4c1e501add9"
  },
  {
   "cell_type": "markdown",
   "metadata": {},
   "source": [
    "We test two fixed polynomials, and also a randomly chosen polynomial of\n",
    "degree at most 3."
   ],
   "id": "ae80bedc-0694-4e91-8476-d7d081a09173"
  },
  {
   "cell_type": "code",
   "execution_count": null,
   "metadata": {},
   "outputs": [],
   "source": [
    "p = Q([1,2,3,4])\n",
    "print(\"p=\", p)\n",
    "print(\"Is the polynomial\", p, \"irreducible?\", p.is_irreducible())\n",
    "q = Q([2,5,0,1])\n",
    "print(\"Is the polynomial\", q, \"irreducible?\", q.is_irreducible())\n",
    "z = Q([K.random_element() for i in range(4)])\n",
    "print(\"Is the polynomial\", z, \"irreducible?\", z.is_irreducible())\n"
   ],
   "id": "46653f02-d9a4-427f-b2d5-23494f27e624"
  },
  {
   "cell_type": "markdown",
   "metadata": {},
   "source": [
    "Now let's try some higher-degree examples!"
   ],
   "id": "9ab9e23c-ed78-417b-aa4c-2de3e941f66a"
  },
  {
   "cell_type": "code",
   "execution_count": null,
   "metadata": {},
   "outputs": [],
   "source": [
    "p1 = Q([4,2,5,6,4,1,3,5,3,1,4,1])\n",
    "print(\"p=\", p)\n",
    "print(\"Is the polynomial\", p1, \"irreducible?\", p1.is_irreducible())\n",
    "q1 = Q([4,2,5,5,4,1,3,5,3,1,4,1])\n",
    "print(\"Is the polynomial\", q1, \"irreducible?\", q1.is_irreducible())\n"
   ],
   "id": "d4e4cc3f-acae-4c01-bf5b-fea8814ed307"
  },
  {
   "cell_type": "markdown",
   "metadata": {},
   "source": [
    "## Another example\n",
    "\n",
    "-   $K = \\mathbb{F}_{19}$\n",
    "-   $f = 2x^3 + 4x^2 + 9$\n",
    "-   $g = 14x^2 + 12x + 13$\n",
    "\n",
    "The resultant of $f$ and $g$ is $\\mathrm{Res}_{3,2}(f,g) =\n",
    "228,636 \\equiv 9 \\mod 19$, so $f$ and $g$ do not have a common\n",
    "non-trivial factor.\n",
    "\n",
    "Let's try to check this a bit. Is $228,636 \\equiv 9 \\mod 19$ actually\n",
    "true?"
   ],
   "id": "eeaa6f2e-78d8-4541-bec7-0d9b6fcf59da"
  },
  {
   "cell_type": "code",
   "execution_count": null,
   "metadata": {},
   "outputs": [],
   "source": [
    "L = rf.primefield(19)\n",
    "rr = L(228636)\n",
    "print(rr, \"= 228,636 in the field\", L)\n"
   ],
   "id": "4804e441-2262-4ba6-973f-53623096414c"
  },
  {
   "cell_type": "markdown",
   "metadata": {},
   "source": [
    "Looks good. Let's compute the remainder when dividing $f$ by $g$, to\n",
    "make sure that $g$ isn't a factor of $f$:"
   ],
   "id": "4a7f1511-a445-43b0-b001-7ef8a2fe9b45"
  },
  {
   "cell_type": "code",
   "execution_count": null,
   "metadata": {},
   "outputs": [],
   "source": [
    "T = rf.polynomialring_over_field(L)\n",
    "f = T([9,0,4,2])\n",
    "print(\"f=\", f)\n",
    "g = T([13,12,14])\n",
    "print(\"g=\", g)\n",
    "print(\"f % g=\", f % g)\n"
   ],
   "id": "e2c54e44-46c1-4f3d-b18d-69dbf7a6b232"
  },
  {
   "cell_type": "markdown",
   "metadata": {},
   "source": [
    "Since the remainder `f % g` is non-zero we know $g \\nmid f$.\n",
    "\n",
    "Let's change tack and check if $f$ has any roots; we'll do this the\n",
    "naive way and simply loop over the elements of the coefficient\n",
    "field $\\mathbb{F}_{19}$, evaluate the polynomial and check whether the\n",
    "result is zero."
   ],
   "id": "90860465-d2b1-45ad-85ed-407df7f0a825"
  },
  {
   "cell_type": "code",
   "execution_count": null,
   "metadata": {},
   "outputs": [],
   "source": [
    "for t in L:\n",
    "    if f.eval(t).is_zero():\n",
    "        print(\"f has root\", t)\n",
    "    else:\n",
    "        print(t, \"is not a root of f\")\n"
   ],
   "id": "5e79d9a8-a2bc-4aae-a698-33078c71c228"
  },
  {
   "cell_type": "markdown",
   "metadata": {},
   "source": [
    "``` example\n",
    "0 is not a root of f\n",
    "1 is not a root of f\n",
    "2 is not a root of f\n",
    "3 is not a root of f\n",
    "4 is not a root of f\n",
    "5 is not a root of f\n",
    "6 is not a root of f\n",
    "7 is not a root of f\n",
    "8 is not a root of f\n",
    "9 is not a root of f\n",
    "10 is not a root of f\n",
    "11 is not a root of f\n",
    "12 is not a root of f\n",
    "13 is not a root of f\n",
    "14 is not a root of f\n",
    "15 is not a root of f\n",
    "16 is not a root of f\n",
    "17 is not a root of f\n",
    "18 is not a root of f\n",
    "```\n",
    "\n",
    "So $f$ has no roots. This actually means that $f$ is irreducible (since\n",
    "$\\deg(f) =3$), and thus can't possibly have a common factor with $g$\n",
    "(such a factor, if non-trivial, would be of degree 1 or 2).\n",
    "\n",
    "## How many polynomials have more than one root?\n",
    "\n",
    "Just for fun, and totally unrelated to the above, let's find the roots\n",
    "(if any) of a higher-degree polynomial:"
   ],
   "id": "60cce5a7-d59e-4094-a60b-1eb983ddb5f0"
  },
  {
   "cell_type": "code",
   "execution_count": null,
   "metadata": {},
   "outputs": [],
   "source": [
    "h = T([6,2,4,2,0,1,15,1])\n",
    "print(\"h=\", h)\n",
    "roots = []\n",
    "for t in L:\n",
    "    if h.eval(t).is_zero():\n",
    "        roots.append(str(t))\n",
    "print(\"Roots of h:\", roots)\n"
   ],
   "id": "dd9e81b5-b00f-46db-b1cc-cb68802744d8"
  },
  {
   "cell_type": "markdown",
   "metadata": {},
   "source": [
    "It took me a while to find (by random experimentation) a polynomial with\n",
    "more than one root. So how likely is it that a polynomial has more than\n",
    "one root? Let's investigate this numerically, simply enumerating all\n",
    "polynomials and counting how many of the have more than one root. It's\n",
    "of course enough to deal with monic polynomials.\n",
    "\n",
    "We start with monic polynomials of degree 2 as a proof-of-concept:"
   ],
   "id": "3b28643e-d54d-44b4-b3ce-e44ccf8ede1b"
  },
  {
   "cell_type": "code",
   "execution_count": null,
   "metadata": {},
   "outputs": [],
   "source": [
    "num = 0\n",
    "tot = 0\n",
    "x = T.x()\n",
    "for a0 in L:\n",
    "    for a1 in L:\n",
    "        tot += 1                      # keep track of the total number of polynomials tested\n",
    "        h = x**2 + a1 * x + a0        # define the polynomial to be tested now\n",
    "        roots = []                    # find the roots of h\n",
    "        for t in L:\n",
    "            if h.eval(t).is_zero():\n",
    "                roots.append(str(t))\n",
    "        if len(roots)>1:             # check if there's more than one root\n",
    "            num += 1\n",
    "print(num, \"of\", tot, \"monic polynomials of degree 2 have more than one root\")\n"
   ],
   "id": "c51bb48c-599b-4735-b5d7-fd951945df00"
  },
  {
   "cell_type": "markdown",
   "metadata": {},
   "source": [
    "So about 47% of the tested polynomials have more than one root.\n",
    "\n",
    "And since that worked well, let's try with degree 3:"
   ],
   "id": "0e0371d7-7582-4abe-9730-2ef3c385a5b3"
  },
  {
   "cell_type": "code",
   "execution_count": null,
   "metadata": {},
   "outputs": [],
   "source": [
    "num = 0\n",
    "tot = 0\n",
    "for a0 in L:\n",
    "    for a1 in L:\n",
    "        for a2 in L:\n",
    "            tot = tot + 1\n",
    "            h = T([a0,a1,a2,1])\n",
    "            roots = []\n",
    "            for t in L:\n",
    "                if h.eval(t).is_zero():\n",
    "                    roots.append(str(t))\n",
    "            if len(roots)>1:\n",
    "                num = num+1\n",
    "print(num, \"of\", tot, \"monic polynomials of degree 3 have more than one root\")\n"
   ],
   "id": "b6d41926-7693-4433-8bf4-a4efce2cbddb"
  },
  {
   "cell_type": "markdown",
   "metadata": {},
   "source": [
    "So about 19% of the tested polynomials have more than one root!\n",
    "\n",
    "And how about degree 4?"
   ],
   "id": "f19a1fc0-c23d-4479-b9f3-8a524b029cf1"
  },
  {
   "cell_type": "code",
   "execution_count": null,
   "metadata": {},
   "outputs": [],
   "source": [
    "num = 0\n",
    "tot = 0\n",
    "for a0 in L:\n",
    "    for a1 in L:\n",
    "        for a2 in L:\n",
    "            for a3 in L:\n",
    "                tot = tot + 1\n",
    "                h = T([a0,a1,a2,a3,1])\n",
    "                roots = []\n",
    "                for t in L:\n",
    "                    if h.eval(t).is_zero():\n",
    "                        roots.append(str(t))\n",
    "                if len(roots)>1:\n",
    "                    num = num+1\n",
    "print(num, \"of\", tot, \"monic polynomials of degree 4 have more than one root\")\n"
   ],
   "id": "1b71c464-7b33-49f1-914b-677a09d9fcc5"
  },
  {
   "cell_type": "markdown",
   "metadata": {},
   "source": [
    "That's a whopping 28% of polynomials with at least one root.\n",
    "\n",
    "**Suggestion**: Try polynomials of degree 5, or even degree 6. Computing\n",
    "times will become quite noticeable but still bearable (I think). What's\n",
    "your prediction?"
   ],
   "id": "2740713e-9207-4667-aea6-63c0936cf7a0"
  }
 ],
 "nbformat": 4,
 "nbformat_minor": 5,
 "metadata": {}
}
